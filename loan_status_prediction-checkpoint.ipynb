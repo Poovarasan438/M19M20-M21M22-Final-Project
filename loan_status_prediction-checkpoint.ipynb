{
 "cells": [
  {
   "cell_type": "code",
   "execution_count": null,
   "id": "7ac84356",
   "metadata": {},
   "outputs": [],
   "source": [
    "#importing necessary libraries\n",
    "import pandas as pd\n",
    "import numpy as np\n",
    "import seaborn as sns\n",
    "import matplotlib.pyplot as plt\n",
    "from sklearn.metrics import accuracy_score\n",
    "from sklearn.metrics import confusion_matrix\n",
    "from sklearn.metrics import classification_report\n",
    "from sklearn.svm import SVC\n",
    "from sklearn.tree import DecisionTreeClassifier\n",
    "from sklearn.model_selection import train_test_split\n",
    "from sklearn.linear_model import LogisticRegression\n",
    "from sklearn.ensemble import RandomForestClassifier\n",
    "import warnings\n",
    "warnings.filterwarnings('ignore')"
   ]
  },
  {
   "cell_type": "code",
   "execution_count": null,
   "id": "f36278ec",
   "metadata": {},
   "outputs": [],
   "source": [
    "#reading_CSV_file\n",
    "df = pd.read_csv(r'C:\\Users\\KINGMAKER\\Downloads\\poova\\Final\\Loan\\Data\\Loan Status Prediction\\Loan_Status_train.csv')\n",
    "df"
   ]
  },
  {
   "cell_type": "code",
   "execution_count": null,
   "id": "b4cfbcf5",
   "metadata": {},
   "outputs": [],
   "source": [
    "#shape_of_the_data\n",
    "df.shape"
   ]
  },
  {
   "cell_type": "code",
   "execution_count": null,
   "id": "5f1d03cc",
   "metadata": {},
   "outputs": [],
   "source": [
    "#information_about_the_data\n",
    "df.info()"
   ]
  },
  {
   "cell_type": "code",
   "execution_count": null,
   "id": "624202f3",
   "metadata": {},
   "outputs": [],
   "source": [
    "df.columns"
   ]
  },
  {
   "cell_type": "code",
   "execution_count": null,
   "id": "10b06f93",
   "metadata": {},
   "outputs": [],
   "source": [
    "#filling_null_values\n",
    "df['Gender'] = df['Gender'].fillna('Male')\n",
    "df['Married'] = df['Married'].fillna('Yes')\n",
    "df['Dependents'] = df['Dependents'].fillna(df['Dependents'].mode()[0])\n",
    "df['Self_Employed'] = df['Self_Employed'].fillna(df['Self_Employed'].mode()[0])\n",
    "df['LoanAmount'] = df['LoanAmount'].fillna(df['LoanAmount'].mode()[0])\n",
    "df['Loan_Amount_Term'] = df['Loan_Amount_Term'].fillna(df['Loan_Amount_Term'].mode()[0])\n",
    "df['Credit_History'] = df['Credit_History'].fillna(df['Credit_History'].mode()[0])"
   ]
  },
  {
   "cell_type": "code",
   "execution_count": null,
   "id": "051d796d",
   "metadata": {
    "scrolled": false
   },
   "outputs": [],
   "source": [
    "#data_visualization\n",
    "#Histplot\n",
    "df = df.drop(columns=['Loan_ID'],axis=1)\n",
    "plt.figure(figsize=(20,25))\n",
    "sns.histplot(data=df)\n",
    "plt.show()"
   ]
  },
  {
   "cell_type": "code",
   "execution_count": null,
   "id": "23a07f1b",
   "metadata": {},
   "outputs": [],
   "source": [
    "#boxplot\n",
    "plt.figure(figsize=(10,10))\n",
    "sns.boxplot(data=df)\n",
    "plt.show()"
   ]
  },
  {
   "cell_type": "code",
   "execution_count": null,
   "id": "304fb5cc",
   "metadata": {
    "scrolled": true
   },
   "outputs": [],
   "source": [
    "#Scatterplot\n",
    "plt.figure(figsize=(10,12))\n",
    "sns.scatterplot(data=df)\n",
    "plt.show()"
   ]
  },
  {
   "cell_type": "code",
   "execution_count": null,
   "id": "80dcc072",
   "metadata": {},
   "outputs": [],
   "source": [
    "#pairplot\n",
    "plt.figure(figsize=(10,12))\n",
    "sns.pairplot(df)\n",
    "plt.show()"
   ]
  },
  {
   "cell_type": "code",
   "execution_count": null,
   "id": "3cd14fce",
   "metadata": {},
   "outputs": [],
   "source": [
    "#converting categorical data into numerical\n",
    "df.loc[df['Loan_Status'] == 'N', 'Loan_Status'] = 0\n",
    "df.loc[df['Loan_Status'] == 'Y', 'Loan_Status'] = 1"
   ]
  },
  {
   "cell_type": "code",
   "execution_count": null,
   "id": "ed12d269",
   "metadata": {},
   "outputs": [],
   "source": [
    "#converting categorical data into numerical\n",
    "df.loc[df['Property_Area'] == 'Rural', 'Property_Area'] = 0\n",
    "df.loc[df['Property_Area'] == 'Semiurban', 'Property_Area'] = 1\n",
    "df.loc[df['Property_Area'] == 'Urban', 'Property_Area'] = 2"
   ]
  },
  {
   "cell_type": "code",
   "execution_count": null,
   "id": "84a11725",
   "metadata": {},
   "outputs": [],
   "source": [
    "#converting_data_types\n",
    "df['ApplicantIncome'] = df['ApplicantIncome'].astype('int64')\n",
    "df['CoapplicantIncome'] = df['CoapplicantIncome'].astype('int64')\n",
    "df['LoanAmount'] = df['LoanAmount'].astype('int64')\n",
    "df['Property_Area'] = df['Property_Area'].astype('int64')\n",
    "df['Credit_History'] = df['Credit_History'].astype('int64')\n",
    "df['Loan_Status'] = df['Loan_Status'].astype('int64')"
   ]
  },
  {
   "cell_type": "code",
   "execution_count": null,
   "id": "48ad432c",
   "metadata": {},
   "outputs": [],
   "source": [
    "# Splitting of feature and target variables\n",
    "X = df[['ApplicantIncome','CoapplicantIncome','LoanAmount','Credit_History','Property_Area']]\n",
    "y=df['Loan_Status'] #target"
   ]
  },
  {
   "cell_type": "code",
   "execution_count": null,
   "id": "f9972651",
   "metadata": {},
   "outputs": [],
   "source": [
    "# Splitting train and test dataset\n",
    "X_train, X_test, y_train, y_test= train_test_split(X, y, test_size= 0.20, random_state=42)"
   ]
  },
  {
   "cell_type": "code",
   "execution_count": null,
   "id": "6f5e03ce",
   "metadata": {},
   "outputs": [],
   "source": [
    "#model_selection\n",
    "#---------\n",
    "#SVM\n",
    "#---------\n",
    "#SVM_test\n",
    "svm_model = SVC(kernel='linear')\n",
    "svm_model.fit(X_train, y_train)\n",
    "y_pred = svm_model.predict(X_test)\n",
    "accuracy = accuracy_score(y_test, y_pred)\n",
    "print(\"Test_Accuracy:\", accuracy)\n",
    "#---------\n",
    "\n",
    "#SVM_train\n",
    "train_pred = svm_model.predict(X_train)\n",
    "train_accuracy = accuracy_score(y_train, train_pred)\n",
    "print(\"Train Accuracy:\", train_accuracy)"
   ]
  },
  {
   "cell_type": "code",
   "execution_count": null,
   "id": "ddfc03fd",
   "metadata": {},
   "outputs": [],
   "source": [
    "#LogisticRegression\n",
    "#-----------------\n",
    "#test_prediction\n",
    "model = LogisticRegression()\n",
    "model.fit(X_train, y_train)\n",
    "\n",
    "y_pred = model.predict(X_test)\n",
    "\n",
    "test_accuracy = accuracy_score(y_test, y_pred)\n",
    "conf_matrix = confusion_matrix(y_test, y_pred)\n",
    "classification_rep = classification_report(y_test, y_pred)\n",
    "#-----------------------\n",
    "\n",
    "# Print_test_prediction\n",
    "print(f\"test_accuracy: {test_accuracy}\")\n",
    "print(\"Confusion Matrix:\\n\", conf_matrix)\n",
    "print(\"Classification Report:\\n\", classification_rep)\n",
    "#------------------------\n",
    "\n",
    "#train_prediction\n",
    "train_accuracy = accuracy_score(y_train, train_pred)\n",
    "train_conf_matrix = confusion_matrix(y_train, train_pred)\n",
    "train_classification_rep = classification_report(y_train, train_pred)\n",
    "#-----------------------\n",
    "\n",
    "# Print_train_prediction\n",
    "print(f\"Train Accuracy: {train_accuracy}\")\n",
    "print(\"Train Confusion Matrix:\\n\", train_conf_matrix)\n",
    "print(\"Train Classification Report:\\n\", train_classification_rep)"
   ]
  },
  {
   "cell_type": "code",
   "execution_count": null,
   "id": "32f2df9f",
   "metadata": {},
   "outputs": [],
   "source": [
    "#Decision Tree\n",
    "#--------------\n",
    "\n",
    "#test_prediction\n",
    "dt_model = DecisionTreeClassifier()\n",
    "dt_model.fit(X_train, y_train)\n",
    "test_pred = dt_model.predict(X_test)\n",
    "accuracy = accuracy_score(y_test, test_pred)\n",
    "print(\"test_accuracy:\", accuracy)\n",
    "#--------------------------\n",
    "\n",
    "#train_predction\n",
    "dt_model.fit(X_train, y_train)\n",
    "train_pred = dt_model.predict(X_train)\n",
    "train_accuracy = accuracy_score(y_train, train_pred)\n",
    "print(\"train_accuracy:\", accuracy)"
   ]
  },
  {
   "cell_type": "code",
   "execution_count": null,
   "id": "e36590a8",
   "metadata": {},
   "outputs": [],
   "source": [
    "#Random_forest\n",
    "#--------------\n",
    "\n",
    "#test_predction\n",
    "rf_model = RandomForestClassifier(n_estimators=100, max_depth=5, criterion = 'entropy' ,random_state=10)\n",
    "rf_model.fit(X_train, y_train)\n",
    "test_pred = rf_model.predict(X_test)\n",
    "accuracy = accuracy_score(y_test, test_pred)\n",
    "print(\"test_accuracy:\", accuracy)\n",
    "#--------------------\n",
    "\n",
    "#train_predction\n",
    "rf_model.fit(X_train, y_train)\n",
    "train_pred = rf_model.predict(X_train)\n",
    "train_accuracy = accuracy_score(y_train, train_pred)\n",
    "print(\"train_accuracy:\", train_accuracy)"
   ]
  },
  {
   "cell_type": "code",
   "execution_count": null,
   "id": "5f00b4fc",
   "metadata": {},
   "outputs": [],
   "source": [
    "#best_model\n",
    "#----------\n",
    "\n",
    "#SVM\n",
    "#--- Test_Accuracy: 0.7967479674796748\n",
    "#--- Train Accuracy: 0.7983706720977597\n",
    "#--------\n"
   ]
  }
 ],
 "metadata": {
  "kernelspec": {
   "display_name": "Python 3 (ipykernel)",
   "language": "python",
   "name": "python3"
  },
  "language_info": {
   "codemirror_mode": {
    "name": "ipython",
    "version": 3
   },
   "file_extension": ".py",
   "mimetype": "text/x-python",
   "name": "python",
   "nbconvert_exporter": "python",
   "pygments_lexer": "ipython3",
   "version": "3.11.5"
  }
 },
 "nbformat": 4,
 "nbformat_minor": 5
}
