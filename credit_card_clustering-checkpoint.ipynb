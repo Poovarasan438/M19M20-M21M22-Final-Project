{
 "cells": [
  {
   "cell_type": "code",
   "execution_count": null,
   "id": "efd4a588",
   "metadata": {},
   "outputs": [],
   "source": [
    "#importing necessary libraries\n",
    "import pandas as pd\n",
    "import numpy as np\n",
    "import seaborn as sns\n",
    "from pycaret.clustering import *\n",
    "import matplotlib.pyplot as plt\n",
    "from sklearn.impute import KNNImputer"
   ]
  },
  {
   "cell_type": "code",
   "execution_count": null,
   "id": "dd171cbb",
   "metadata": {},
   "outputs": [],
   "source": [
    "#reading_CSV_file\n",
    "df = pd.read_csv(r\"C:\\Users\\KINGMAKER\\Downloads\\poova\\Final\\Loan\\Data\\Credit Card_Clustering\\Credit Card_Clustering.csv\")\n",
    "df"
   ]
  },
  {
   "cell_type": "code",
   "execution_count": null,
   "id": "78347c43",
   "metadata": {},
   "outputs": [],
   "source": [
    "#shape_of_the_data\n",
    "df.shape"
   ]
  },
  {
   "cell_type": "code",
   "execution_count": null,
   "id": "44b81b66",
   "metadata": {},
   "outputs": [],
   "source": [
    "#information_about_the_data\n",
    "df.info()"
   ]
  },
  {
   "cell_type": "code",
   "execution_count": null,
   "id": "f6d6d2d8",
   "metadata": {},
   "outputs": [],
   "source": [
    "df.columns"
   ]
  },
  {
   "cell_type": "code",
   "execution_count": null,
   "id": "07dfe2eb",
   "metadata": {},
   "outputs": [],
   "source": [
    "cat_col = df.select_dtypes(include=['object']).columns\n",
    "num_col = df.select_dtypes(exclude=['object']).columns\n",
    "\n",
    "\n",
    "imputer = KNNImputer()\n",
    "imp_data = pd.DataFrame(imputer.fit_transform(df[num_col]),columns=df[num_col].columns)\n",
    "imp_data.isna().sum()"
   ]
  },
  {
   "cell_type": "code",
   "execution_count": null,
   "id": "919cf2c5",
   "metadata": {},
   "outputs": [],
   "source": [
    "df.info()"
   ]
  },
  {
   "cell_type": "code",
   "execution_count": null,
   "id": "15484174",
   "metadata": {},
   "outputs": [],
   "source": [
    "df.describe()"
   ]
  },
  {
   "cell_type": "code",
   "execution_count": null,
   "id": "56d317c5",
   "metadata": {},
   "outputs": [],
   "source": [
    "df['MINIMUM_PAYMENTS'] = df['MINIMUM_PAYMENTS'].fillna(df['MINIMUM_PAYMENTS'].median())\n",
    "df['CREDIT_LIMIT'] = df['CREDIT_LIMIT'].fillna(df['CREDIT_LIMIT'].median())\n",
    "df"
   ]
  },
  {
   "cell_type": "code",
   "execution_count": null,
   "id": "317232fe",
   "metadata": {},
   "outputs": [],
   "source": [
    "df.isna().sum()"
   ]
  },
  {
   "cell_type": "code",
   "execution_count": null,
   "id": "ad6dce55",
   "metadata": {},
   "outputs": [],
   "source": [
    "#data_visualization\n",
    "#Histplot\n",
    "#---------\n",
    "columns=['BALANCE', 'BALANCE_FREQUENCY', 'PURCHASES', 'ONEOFF_PURCHASES','INSTALLMENTS_PURCHASES', 'CASH_ADVANCE', 'PURCHASES_FREQUENCY' , 'ONEOFF_PURCHASES_FREQUENCY' , 'PURCHASES_INSTALLMENTS_FREQUENCY' , 'CASH_ADVANCE_FREQUENCY' , 'CASH_ADVANCE_TRX' , 'PURCHASES_TRX' , 'CREDIT_LIMIT' , 'PAYMENTS' , 'MINIMUM_PAYMENTS' , 'PRC_FULL_PAYMENT' , 'TENURE']\n",
    "plt.figure(figsize=(20,20))\n",
    "for l in range(len(columns)):\n",
    "    plt.subplot(5,4,l+1)\n",
    "    plt.subplots_adjust(hspace=0.3)\n",
    "    plt.title('Histplot - '+columns[l],fontsize=11, color=\"#22577A\", weight='bold')\n",
    "    ax=sns.histplot(df[columns[l]], color=\"#F4442E\")"
   ]
  },
  {
   "cell_type": "code",
   "execution_count": null,
   "id": "6156ddcb",
   "metadata": {},
   "outputs": [],
   "source": [
    "#boxplot\n",
    "#--------\n",
    "plt.figure(figsize=(12, 8))\n",
    "df.boxplot()\n",
    "plt.xticks(rotation=45)\n",
    "plt.title('Box Plot of Customer Data')\n",
    "plt.xlabel('Features')\n",
    "plt.ylabel('Values')\n",
    "plt.tight_layout()\n",
    "plt.show()"
   ]
  },
  {
   "cell_type": "code",
   "execution_count": null,
   "id": "1bc976c3",
   "metadata": {},
   "outputs": [],
   "source": [
    "#heatmap\n",
    "#-------\n",
    "X = df.drop(['CUST_ID'],axis=1)\n",
    "plt.subplots(figsize=(12,10))\n",
    "sns.heatmap(X.corr(),annot = True);"
   ]
  },
  {
   "cell_type": "code",
   "execution_count": null,
   "id": "1f3191d0",
   "metadata": {},
   "outputs": [],
   "source": [
    "clu = setup(imp_data, normalize = True, \n",
    "            pca = True,\n",
    "            remove_multicollinearity= True,\n",
    "            session_id = 123)"
   ]
  },
  {
   "cell_type": "code",
   "execution_count": null,
   "id": "d8e5f970",
   "metadata": {},
   "outputs": [],
   "source": [
    "models()"
   ]
  },
  {
   "cell_type": "code",
   "execution_count": null,
   "id": "782f4e33",
   "metadata": {},
   "outputs": [],
   "source": [
    "#kmeans\n",
    "#-------\n",
    "kmeans = create_model(\"kmeans\")"
   ]
  },
  {
   "cell_type": "code",
   "execution_count": null,
   "id": "2269bd6b",
   "metadata": {},
   "outputs": [],
   "source": [
    "#kmean_results\n",
    "#------------\n",
    "kmean_results = assign_model(kmeans)\n",
    "kmean_results.head()"
   ]
  },
  {
   "cell_type": "code",
   "execution_count": null,
   "id": "0515155a",
   "metadata": {},
   "outputs": [],
   "source": [
    "#2D_plot\n",
    "#-------\n",
    "plot_model(kmeans)"
   ]
  },
  {
   "cell_type": "code",
   "execution_count": null,
   "id": "5263b983",
   "metadata": {},
   "outputs": [],
   "source": [
    "#elbowplot\n",
    "#--------\n",
    "plot_model(kmeans, plot = 'elbow')"
   ]
  },
  {
   "cell_type": "code",
   "execution_count": null,
   "id": "d5f927ae",
   "metadata": {},
   "outputs": [],
   "source": [
    "#Silhouetteplot\n",
    "#------------\n",
    "plot_model(kmeans, plot = 'silhouette')"
   ]
  },
  {
   "cell_type": "code",
   "execution_count": null,
   "id": "d3350e2c",
   "metadata": {},
   "outputs": [],
   "source": [
    "#distribution\n",
    "#---------\n",
    "plot_model(kmeans, plot = 'distribution')"
   ]
  },
  {
   "cell_type": "code",
   "execution_count": null,
   "id": "bbcc1a23",
   "metadata": {},
   "outputs": [],
   "source": [
    "#tenure_distribution\n",
    "#-------------------\n",
    "plot_model(kmeans, plot = 'distribution', feature = 'TENURE')"
   ]
  },
  {
   "cell_type": "code",
   "execution_count": null,
   "id": "12781ef9",
   "metadata": {},
   "outputs": [],
   "source": [
    "#payments_distribution\n",
    "#--------------------\n",
    "plot_model(kmeans, plot = 'distribution', feature = 'PAYMENTS')"
   ]
  },
  {
   "cell_type": "code",
   "execution_count": null,
   "id": "61dbc1a3",
   "metadata": {},
   "outputs": [],
   "source": [
    "plot_model(kmeans, plot = 'distribution', feature = 'TENURE')"
   ]
  },
  {
   "cell_type": "code",
   "execution_count": null,
   "id": "83d53a03",
   "metadata": {},
   "outputs": [],
   "source": [
    "#3DTSNE_for_clusters\n",
    "plot_model(kmeans, plot ='tsne')"
   ]
  },
  {
   "cell_type": "code",
   "execution_count": null,
   "id": "2d8f076f",
   "metadata": {},
   "outputs": [],
   "source": [
    "#hierarchical_clustering\n",
    "#-----------------\n",
    "hierarchical_clust = create_model('hclust')"
   ]
  },
  {
   "cell_type": "code",
   "execution_count": null,
   "id": "09184424",
   "metadata": {},
   "outputs": [],
   "source": [
    "#hierarchical_results\n",
    "#-----------------\n",
    "hierarchical_results = assign_model(hierarchical_clust)\n",
    "hierarchical_results.head()"
   ]
  },
  {
   "cell_type": "code",
   "execution_count": null,
   "id": "f206bd33",
   "metadata": {},
   "outputs": [],
   "source": [
    "#2Dhierarchical_cluster\n",
    "#----------------------\n",
    "plot_model(hierarchical_clust)"
   ]
  },
  {
   "cell_type": "code",
   "execution_count": null,
   "id": "bbeb618b",
   "metadata": {},
   "outputs": [],
   "source": [
    "#distribution\n",
    "#----------\n",
    "plot_model(hierarchical_clust, plot = 'distribution')"
   ]
  },
  {
   "cell_type": "code",
   "execution_count": null,
   "id": "3512d33e",
   "metadata": {},
   "outputs": [],
   "source": [
    "#3D_TSNE_for_clusters\n",
    "#-----------------\n",
    "plot_model(hierarchical_clust, plot ='tsne')"
   ]
  },
  {
   "cell_type": "code",
   "execution_count": null,
   "id": "c9dc1fd6",
   "metadata": {},
   "outputs": [],
   "source": []
  }
 ],
 "metadata": {
  "kernelspec": {
   "display_name": "Python 3 (ipykernel)",
   "language": "python",
   "name": "python3"
  },
  "language_info": {
   "codemirror_mode": {
    "name": "ipython",
    "version": 3
   },
   "file_extension": ".py",
   "mimetype": "text/x-python",
   "name": "python",
   "nbconvert_exporter": "python",
   "pygments_lexer": "ipython3",
   "version": "3.11.5"
  }
 },
 "nbformat": 4,
 "nbformat_minor": 5
}
